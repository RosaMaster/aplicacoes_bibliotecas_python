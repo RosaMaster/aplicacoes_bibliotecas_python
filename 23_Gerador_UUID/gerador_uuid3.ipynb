{
 "cells": [
  {
   "cell_type": "markdown",
   "metadata": {},
   "source": [
    "### Gerador UUID 3\n",
    "\n",
    "#### Definição\n",
    "\n",
    "**UUID3** -> Baseado no hash MD5 de um namespace e um nome. Útil para gerar UUIDs determinísticos"
   ]
  },
  {
   "cell_type": "code",
   "execution_count": 9,
   "metadata": {},
   "outputs": [
    {
     "name": "stdout",
     "output_type": "stream",
     "text": [
      "UUID3: 9073926b-929f-31c2-abc9-fad77ae3e8eb\n",
      "UUID3: 109f8204-164d-33ef-871d-d92c373e8c66\n",
      "UUID3: a0473a67-27a1-3c05-a2d1-5c134639347f\n",
      "UUID3: 11c2f001-e3a4-3ad0-90f7-88ac418c36b8\n"
     ]
    }
   ],
   "source": [
    "import uuid\n",
    "\n",
    "# Gerar um UUID baseado no nome e namespace (UUID3, usando MD5)\n",
    "uuid3_dns = uuid.uuid3(uuid.NAMESPACE_DNS, 'example.com')\n",
    "print(f\"UUID3: {uuid3_dns}\")\n",
    "\n",
    "uuid3_oid = uuid.uuid3(uuid.NAMESPACE_OID, 'example.com')\n",
    "print(f\"UUID3: {uuid3_oid}\")\n",
    "\n",
    "uuid3_url = uuid.uuid3(uuid.NAMESPACE_URL, 'example.com')\n",
    "print(f\"UUID3: {uuid3_url}\")\n",
    "\n",
    "uuid3_x500 = uuid.uuid3(uuid.NAMESPACE_X500, 'example.com')\n",
    "print(f\"UUID3: {uuid3_x500}\")\n"
   ]
  },
  {
   "cell_type": "markdown",
   "metadata": {},
   "source": [
    "#### UUID3\n",
    "\n",
    "O **UUID3** é um tipo de UUID (Universally Unique Identifier) que é gerado com base no **hash MD5** de um namespace e um nome. Ele é útil para gerar UUIDs determinísticos, ou seja, o mesmo namespace e nome sempre gerarão o mesmo UUID.\n",
    "\n",
    "\n",
    "##### Como Funciona\n",
    "\n",
    "O UUID3 utiliza um namespace e um nome para gerar um hash MD5, que é então usado para criar o UUID. Existem alguns namespaces predefinidos que você pode usar, como:\n",
    "\n",
    "- **uuid.NAMESPACE_DNS**: Namespace para nomes de domínio.\n",
    "- **uuid.NAMESPACE_URL**: Namespace para URLs.\n",
    "- **uuid.NAMESPACE_OID**: Namespace para OIDs (Object Identifiers).\n",
    "- **uuid.NAMESPACE_X500**: Namespace para nomes X.500 (DNs).\n",
    "\n",
    "###### Exemplo de Código\n",
    "\n",
    "Aqui está um exemplo de como gerar um UUID3 em Python usando o módulo uuid:\n",
    "\n",
    "~~~Python\n",
    "import uuid\n",
    "\n",
    "# Gerar um UUID baseado no nome e namespace (UUID3, usando MD5)\n",
    "uuid3 = uuid.uuid3(uuid.NAMESPACE_DNS, 'example.com')\n",
    "print(f\"UUID3: {uuid3}\")\n",
    "~~~"
   ]
  }
 ],
 "metadata": {
  "kernelspec": {
   "display_name": "Python 3",
   "language": "python",
   "name": "python3"
  },
  "language_info": {
   "codemirror_mode": {
    "name": "ipython",
    "version": 3
   },
   "file_extension": ".py",
   "mimetype": "text/x-python",
   "name": "python",
   "nbconvert_exporter": "python",
   "pygments_lexer": "ipython3",
   "version": "3.12.2"
  }
 },
 "nbformat": 4,
 "nbformat_minor": 2
}
