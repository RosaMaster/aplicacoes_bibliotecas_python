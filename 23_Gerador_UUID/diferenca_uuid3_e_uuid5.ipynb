{
 "cells": [
  {
   "cell_type": "markdown",
   "metadata": {},
   "source": [
    "### Diferença entre UUID3 e UUID5\n",
    "\n",
    "Tanto o UUID3 quanto o UUID5 são tipos de UUIDs (Universally Unique Identifiers) que são gerados com base em um namespace e um nome. A principal diferença entre eles está no algoritmo de hash utilizado para gerar o UUID.\n",
    "\n",
    "#### UUID3\n",
    "\n",
    "- Algoritmo de Hash: Utiliza o algoritmo de hash MD5\n",
    "- Determinístico: O mesmo namespace e nome sempre gerarão o mesmo UUID\n",
    "- Uso: Útil para gerar UUIDs determinísticos\n",
    "- Segurança: MD5 é considerado menos seguro devido a vulnerabilidades conhecidas, como colisões de hash\n",
    "\n",
    "#### UUID5\n",
    "\n",
    "- Algoritmo de Hash: Utiliza o algoritmo de hash SHA-1\n",
    "- Determinístico: O mesmo namespace e nome sempre gerarão o mesmo UUID\n",
    "- Uso: Útil para gerar UUIDs determinísticos\n",
    "- Segurança: SHA-1 é considerado mais seguro que MD5, embora também tenha vulnerabilidades conhecidas\n",
    "\n",
    "#### Exemplo de Código\n",
    "\n",
    "Aqui está um exemplo de como gerar UUID3 e UUID5 em Python usando o módulo uuid:\n",
    "\n",
    "~~~Python\n",
    "import uuid\n",
    "\n",
    "# Gerar um UUID baseado no nome e namespace (UUID3, usando MD5)\n",
    "uuid3 = uuid.uuid3(uuid.NAMESPACE_DNS, 'example.com')\n",
    "print(f\"UUID3: {uuid3}\")\n",
    "\n",
    "# Gerar um UUID baseado no nome e namespace (UUID5, usando SHA-1)\n",
    "uuid5 = uuid.uuid5(uuid.NAMESPACE_DNS, 'example.com')\n",
    "print(f\"UUID5: {uuid5}\")\n",
    "~~~\n",
    "\n",
    "#### Características Comuns\n",
    "\n",
    "- Determinísticos: Ambos os UUIDs são determinísticos, o que significa que o mesmo namespace e nome sempre gerarão o mesmo UUID\n",
    "- Namespace: Ambos podem usar namespaces predefinidos ou criar seus próprios namespaces\n",
    "- Uso: Ambos são úteis para gerar identificadores únicos que precisam ser consistentes e previsíveis\n",
    "\n",
    "#### Conclusão\n",
    "\n",
    "A principal diferença entre UUID3 e UUID5 está no algoritmo de hash utilizado: UUID3 usa MD5, enquanto UUID5 usa SHA-1. SHA-1 é considerado mais seguro que MD5, embora ambos tenham vulnerabilidades conhecidas. A escolha entre UUID3 e UUID5 pode depender dos requisitos de segurança e das políticas de hash da sua aplicação\n",
    "\n"
   ]
  },
  {
   "cell_type": "code",
   "execution_count": 1,
   "metadata": {},
   "outputs": [
    {
     "name": "stdout",
     "output_type": "stream",
     "text": [
      "UUID3: 9073926b-929f-31c2-abc9-fad77ae3e8eb\n",
      "UUID5: cfbff0d1-9375-5685-968c-48ce8b15ae17\n"
     ]
    }
   ],
   "source": [
    "import uuid\n",
    "\n",
    "# Gerar um UUID baseado no nome e namespace (UUID3, usando MD5)\n",
    "uuid3 = uuid.uuid3(uuid.NAMESPACE_DNS, 'example.com')\n",
    "print(f\"UUID3: {uuid3}\")\n",
    "\n",
    "# Gerar um UUID baseado no nome e namespace (UUID5, usando SHA-1)\n",
    "uuid5 = uuid.uuid5(uuid.NAMESPACE_DNS, 'example.com')\n",
    "print(f\"UUID5: {uuid5}\")"
   ]
  }
 ],
 "metadata": {
  "kernelspec": {
   "display_name": "Python 3",
   "language": "python",
   "name": "python3"
  },
  "language_info": {
   "codemirror_mode": {
    "name": "ipython",
    "version": 3
   },
   "file_extension": ".py",
   "mimetype": "text/x-python",
   "name": "python",
   "nbconvert_exporter": "python",
   "pygments_lexer": "ipython3",
   "version": "3.12.2"
  }
 },
 "nbformat": 4,
 "nbformat_minor": 2
}
