{
 "cells": [
  {
   "cell_type": "markdown",
   "metadata": {},
   "source": [
    "### Gerador UUID 4\n",
    "\n",
    "#### Definição\n",
    "\n",
    "**UUID4** -> Gerado aleatoriamente. É o tipo mais comum e amplamente utilizado"
   ]
  },
  {
   "cell_type": "code",
   "execution_count": 1,
   "metadata": {},
   "outputs": [
    {
     "name": "stdout",
     "output_type": "stream",
     "text": [
      "UUID4: 0031eaa6-1649-4bd0-9a33-bac276636678\n"
     ]
    }
   ],
   "source": [
    "import uuid\n",
    "\n",
    "# Gerar um UUID aleatório (UUID4)\n",
    "uuid4 = uuid.uuid4()\n",
    "print(f\"UUID4: {uuid4}\")"
   ]
  },
  {
   "cell_type": "markdown",
   "metadata": {},
   "source": [
    "#### UUID4\n",
    "\n",
    "O **UUID4** é um tipo de UUID (Universally Unique Identifier) que é gerado de forma completamente aleatória. Ele é amplamente utilizado devido à sua simplicidade e à alta probabilidade de unicidade, mesmo quando gerado em sistemas distribuídos.\n",
    "\n",
    "##### Como Funciona\n",
    "\n",
    "O UUID4 é gerado usando números aleatórios. Ele não depende de um namespace ou de um nome, como o UUID3, e não contém informações específicas sobre o tempo ou o endereço MAC, como o UUID1. Em vez disso, ele é composto inteiramente por bits gerados aleatoriamente.\n",
    "\n",
    "##### Exemplo de Código\n",
    "\n",
    "Aqui está um exemplo de como gerar um UUID4 em Python usando o módulo uuid:\n",
    "\n",
    "~~~Python\n",
    "import uuid\n",
    "\n",
    "# Gerar um UUID aleatório (UUID4)\n",
    "uuid4 = uuid.uuid4()\n",
    "print(f\"UUID4: {uuid4}\")\n",
    "~~~\n",
    "\n",
    "##### Explicação do Código\n",
    "\n",
    "- mportar o Módulo UUID: Importa o módulo **uuid** da biblioteca padrão do Python.\n",
    "- Gerar UUID4: Usa a função **uuid.uuid4()** para gerar um **UUID4**. Esta função gera um UUID baseado em números aleatórios.\n",
    "- Imprimir o UUID4: Imprime o UUID4 gerado.\n",
    "\n",
    "##### Exemplo de Saída\n",
    "\n",
    "Quando você executa o código acima, a saída será algo como:\n",
    "\n",
    "~~~Shell\n",
    "UUID4: 16fd2706-8baf-433b-82eb-8c7fada847da\n",
    "~~~\n",
    "\n",
    "Cada vez que você executa o código, um novo UUID4 aleatório é gerado.\n",
    "\n",
    "##### Características do UUID4\n",
    "\n",
    "- Aleatório: O UUID4 é gerado usando números aleatórios, o que garante uma alta probabilidade de unicidade.\n",
    "- Independente de Namespace ou Nome: Diferente do UUID3 e UUID5, o UUID4 não requer um namespace ou um nome.\n",
    "- Simples e Rápido: A geração de UUID4 é simples e rápida, pois não envolve cálculos complexos ou dependências externas.\n",
    "\n",
    "##### Conclusão\n",
    "\n",
    "O UUID4 é uma escolha popular para gerar identificadores únicos devido à sua simplicidade e à alta probabilidade de unicidade. Ele é ideal para situações onde você precisa de um identificador único que não dependa de informações específicas, como o tempo ou um namespace. A geração de UUID4 é rápida e eficiente, tornando-o adequado para uma ampla variedade de aplicações, desde bancos de dados até sistemas distribuídos."
   ]
  }
 ],
 "metadata": {
  "kernelspec": {
   "display_name": "Python 3",
   "language": "python",
   "name": "python3"
  },
  "language_info": {
   "codemirror_mode": {
    "name": "ipython",
    "version": 3
   },
   "file_extension": ".py",
   "mimetype": "text/x-python",
   "name": "python",
   "nbconvert_exporter": "python",
   "pygments_lexer": "ipython3",
   "version": "3.12.2"
  }
 },
 "nbformat": 4,
 "nbformat_minor": 2
}
