{
 "cells": [
  {
   "cell_type": "markdown",
   "metadata": {},
   "source": [
    "### Gerador UUID 2\n",
    "\n",
    "#### Definição\n",
    "\n",
    "**UUID2** -> "
   ]
  },
  {
   "cell_type": "code",
   "execution_count": 1,
   "metadata": {},
   "outputs": [
    {
     "name": "stdout",
     "output_type": "stream",
     "text": [
      "UUID1: f6d7c676-e5c6-11ef-9821-ac5afcce76dc\n",
      "UUID3: 9073926b-929f-31c2-abc9-fad77ae3e8eb\n",
      "UUID4: 736311a5-66a4-4e3a-9ac7-4ae2859a12f2\n",
      "UUID5: cfbff0d1-9375-5685-968c-48ce8b15ae17\n"
     ]
    }
   ],
   "source": [
    "import uuid\n",
    "\n",
    "# Gerar um UUID baseado no tempo (UUID1)\n",
    "uuid1 = uuid.uuid1()\n",
    "print(f\"UUID1: {uuid1}\")\n",
    "\n",
    "# Gerar um UUID baseado no nome e namespace (UUID3, usando MD5)\n",
    "uuid3 = uuid.uuid3(uuid.NAMESPACE_DNS, 'example.com')\n",
    "print(f\"UUID3: {uuid3}\")\n",
    "\n",
    "# Gerar um UUID aleatório (UUID4)\n",
    "uuid4 = uuid.uuid4()\n",
    "print(f\"UUID4: {uuid4}\")\n",
    "\n",
    "# Gerar um UUID baseado no nome e namespace (UUID5, usando SHA-1)\n",
    "uuid5 = uuid.uuid5(uuid.NAMESPACE_DNS, 'example.com')\n",
    "print(f\"UUID5: {uuid5}\")"
   ]
  }
 ],
 "metadata": {
  "kernelspec": {
   "display_name": "Python 3",
   "language": "python",
   "name": "python3"
  },
  "language_info": {
   "codemirror_mode": {
    "name": "ipython",
    "version": 3
   },
   "file_extension": ".py",
   "mimetype": "text/x-python",
   "name": "python",
   "nbconvert_exporter": "python",
   "pygments_lexer": "ipython3",
   "version": "3.12.2"
  }
 },
 "nbformat": 4,
 "nbformat_minor": 2
}
