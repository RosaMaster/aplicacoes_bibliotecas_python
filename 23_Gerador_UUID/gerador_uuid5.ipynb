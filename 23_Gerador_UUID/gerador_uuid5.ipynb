{
 "cells": [
  {
   "cell_type": "markdown",
   "metadata": {},
   "source": [
    "### Gerador UUID 5\n",
    "\n",
    "#### Definição\n",
    "\n",
    "**UUID5** -> Baseado no hash SHA-1 de um namespace e um nome. Similar ao UUID3, mas usa SHA-1 em vez de MD5"
   ]
  },
  {
   "cell_type": "code",
   "execution_count": 2,
   "metadata": {},
   "outputs": [
    {
     "name": "stdout",
     "output_type": "stream",
     "text": [
      "UUID5: cfbff0d1-9375-5685-968c-48ce8b15ae17\n"
     ]
    }
   ],
   "source": [
    "import uuid\n",
    "\n",
    "# Gerar um UUID baseado no nome e namespace (UUID5, usando SHA-1)\n",
    "uuid5 = uuid.uuid5(uuid.NAMESPACE_DNS, 'example.com')\n",
    "print(f\"UUID5: {uuid5}\")"
   ]
  },
  {
   "cell_type": "code",
   "execution_count": null,
   "metadata": {},
   "outputs": [
    {
     "name": "stdout",
     "output_type": "stream",
     "text": [
      "UUID5 (DNS): cfbff0d1-9375-5685-968c-48ce8b15ae17\n",
      "UUID5 (URL): 4fd35a71-71ef-5a55-a9d9-aa75c889a6d0\n",
      "UUID5 (OID): 8f8c57e1-8db4-5940-8ec2-e7d2c194814e\n",
      "UUID5 (X500): 58abbf01-7e00-5f31-8666-63f9b1176e02\n",
      "UUID3: 9073926b-929f-31c2-abc9-fad77ae3e8eb\n",
      "UUID3: 109f8204-164d-33ef-871d-d92c373e8c66\n",
      "UUID3: a0473a67-27a1-3c05-a2d1-5c134639347f\n",
      "UUID3: 11c2f001-e3a4-3ad0-90f7-88ac418c36b8\n"
     ]
    }
   ],
   "source": [
    "uuid5_dns = uuid.uuid5(uuid.NAMESPACE_DNS, 'example.com')\n",
    "print(f\"UUID5 (DNS): {uuid5_dns}\")\n",
    "\n",
    "uuid5_url = uuid.uuid5(uuid.NAMESPACE_URL, 'https://example.com')\n",
    "print(f\"UUID5 (URL): {uuid5_url}\")\n",
    "\n",
    "uuid5_oid = uuid.uuid5(uuid.NAMESPACE_OID, '1.2.3.4.5')\n",
    "print(f\"UUID5 (OID): {uuid5_oid}\")\n",
    "\n",
    "uuid5_x500 = uuid.uuid5(uuid.NAMESPACE_X500, 'cn=example,dc=com')\n",
    "print(f\"UUID5 (X500): {uuid5_x500}\")"
   ]
  },
  {
   "cell_type": "markdown",
   "metadata": {},
   "source": [
    "### UUID5\n",
    "\n",
    "O UUID5 é um tipo de UUID (Universally Unique Identifier) que é gerado com base no hash SHA-1 de um namespace e um nome. Ele é similar ao UUID3, mas usa o algoritmo de hash SHA-1 em vez do MD5. O UUID5 é útil para gerar UUIDs determinísticos, ou seja, o mesmo namespace e nome sempre gerarão o mesmo UUID\n",
    "\n",
    "#### Como Funciona\n",
    "\n",
    "O UUID5 utiliza um namespace e um nome para gerar um hash SHA-1, que é então usado para criar o UUID. \n",
    "Existem alguns namespaces predefinidos que você pode usar, como:\n",
    "\n",
    "- **uuid.NAMESPACE_DNS**: Namespace para nomes de domínio\n",
    "- **uuid.NAMESPACE_URL**: Namespace para URLs\n",
    "- **uuid.NAMESPACE_OID**: Namespace para OIDs (Object Identifiers)\n",
    "- **uuid.NAMESPACE_X500**: Namespace para nomes X.500 (DNs)\n",
    "\n",
    "#### Exemplo de Código\n",
    "\n",
    "Aqui está um exemplo de como gerar um UUID5 em Python usando o módulo uuid:\n",
    "\n",
    "~~~Python\n",
    "import uuid\n",
    "\n",
    "# Gerar um UUID baseado no nome e namespace (UUID5, usando SHA-1)\n",
    "uuid5_dns = uuid.uuid5(uuid.NAMESPACE_DNS, 'example.com')\n",
    "print(f\"UUID5 (DNS): {uuid5_dns}\")\n",
    "\n",
    "uuid5_url = uuid.uuid5(uuid.NAMESPACE_URL, 'https://example.com')\n",
    "print(f\"UUID5 (URL): {uuid5_url}\")\n",
    "\n",
    "uuid5_oid = uuid.uuid5(uuid.NAMESPACE_OID, '1.2.3.4.5')\n",
    "print(f\"UUID5 (OID): {uuid5_oid}\")\n",
    "\n",
    "uuid5_x500 = uuid.uuid5(uuid.NAMESPACE_X500, 'cn=example,dc=com')\n",
    "print(f\"UUID5 (X500): {uuid5_x500}\")\n",
    "~~~\n",
    "\n",
    "#### Explicação do Código\n",
    "\n",
    "- **Importar o Módulo UUID**: Importa o módulo uuid da biblioteca padrão do Python\n",
    "- **Gerar UUID5**: Usa a função `uuid.uuid5()` para gerar um UUID5. O primeiro argumento é o namespace (por exemplo, `uuid.NAMESPACE_DNS`), e o segundo argumento é o nome (por exemplo, `'example.com'`)\n",
    "- **Imprimir o UUID5**: Imprime o UUID5 gerado para diferentes namespaces\n",
    "\n",
    "#### Exemplo de Saída\n",
    "Quando você executa o código acima, a saída será algo como:\n",
    "\n",
    "~~~Shell\n",
    "UUID5 (DNS): 2ed6657d-e927-568b-95e1-2665a8aea6a2\n",
    "UUID5 (URL): 3c4e4f0f-3e3a-5a8f-9b2e-4a6f7b7c5e5f\n",
    "UUID5 (OID): 6fa459ea-ee8a-5b89-8680-0195ef798b6a\n",
    "UUID5 (X500): 21f7f8de-8051-5b89-8680-0195ef798b6a\n",
    "~~~\n",
    "\n",
    "#### Características do UUID5\n",
    "\n",
    "- **Determinístico**: O mesmo namespace e nome sempre gerarão o mesmo UUID.\n",
    "- **Baseado em Hash SHA-1**: Utiliza o algoritmo de hash SHA-1 para gerar o UUID.\n",
    "- **Namespace**: Pode usar namespaces predefinidos ou criar seus próprios namespaces.\n",
    "- **Seguro**: SHA-1 é considerado mais seguro que MD5, embora ambos tenham vulnerabilidades conhecidas.\n",
    "\n",
    "#### Conclusão\n",
    "\n",
    "O UUID5 é útil quando você precisa de um identificador único que seja determinístico, ou seja, que o mesmo input (namespace e nome) sempre gere o mesmo UUID. Ele é amplamente utilizado em sistemas onde a consistência e a previsibilidade dos identificadores são importantes. A utilização do algoritmo de hash SHA-1 torna o UUID5 mais seguro que o UUID3, que usa MD5.\n",
    "\n"
   ]
  }
 ],
 "metadata": {
  "kernelspec": {
   "display_name": "Python 3",
   "language": "python",
   "name": "python3"
  },
  "language_info": {
   "codemirror_mode": {
    "name": "ipython",
    "version": 3
   },
   "file_extension": ".py",
   "mimetype": "text/x-python",
   "name": "python",
   "nbconvert_exporter": "python",
   "pygments_lexer": "ipython3",
   "version": "3.12.2"
  }
 },
 "nbformat": 4,
 "nbformat_minor": 2
}
