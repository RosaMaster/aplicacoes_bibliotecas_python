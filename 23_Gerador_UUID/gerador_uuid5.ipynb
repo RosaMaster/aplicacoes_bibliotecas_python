{
 "cells": [
  {
   "cell_type": "markdown",
   "metadata": {},
   "source": [
    "### Gerador UUID 5\n",
    "\n",
    "#### Definição\n",
    "\n",
    "**UUID5** -> Baseado no hash SHA-1 de um namespace e um nome. Similar ao UUID3, mas usa SHA-1 em vez de MD5"
   ]
  },
  {
   "cell_type": "code",
   "execution_count": 1,
   "metadata": {},
   "outputs": [
    {
     "name": "stdout",
     "output_type": "stream",
     "text": [
      "UUID5: cfbff0d1-9375-5685-968c-48ce8b15ae17\n"
     ]
    }
   ],
   "source": [
    "import uuid\n",
    "\n",
    "# Gerar um UUID baseado no nome e namespace (UUID5, usando SHA-1)\n",
    "uuid5 = uuid.uuid5(uuid.NAMESPACE_DNS, 'example.com')\n",
    "print(f\"UUID5: {uuid5}\")"
   ]
  }
 ],
 "metadata": {
  "kernelspec": {
   "display_name": "Python 3",
   "language": "python",
   "name": "python3"
  },
  "language_info": {
   "codemirror_mode": {
    "name": "ipython",
    "version": 3
   },
   "file_extension": ".py",
   "mimetype": "text/x-python",
   "name": "python",
   "nbconvert_exporter": "python",
   "pygments_lexer": "ipython3",
   "version": "3.12.2"
  }
 },
 "nbformat": 4,
 "nbformat_minor": 2
}
