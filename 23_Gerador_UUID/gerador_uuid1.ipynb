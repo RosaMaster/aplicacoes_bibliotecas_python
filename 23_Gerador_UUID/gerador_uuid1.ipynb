{
 "cells": [
  {
   "cell_type": "markdown",
   "metadata": {},
   "source": [
    "### Gerador UUID 1\n",
    "\n",
    "#### Definição\n",
    "\n",
    "**UUID1** -> Baseado no tempo e no endereço MAC do computador. Pode ser usado para garantir a unicidade em um ambiente distribuído"
   ]
  },
  {
   "cell_type": "code",
   "execution_count": 1,
   "metadata": {},
   "outputs": [
    {
     "name": "stdout",
     "output_type": "stream",
     "text": [
      "UUID1: eb4d542d-e5c5-11ef-95f0-ac5afcce76dc\n"
     ]
    }
   ],
   "source": [
    "import uuid\n",
    "\n",
    "# Gerar um UUID baseado no tempo (UUID1)\n",
    "uuid1 = uuid.uuid1()\n",
    "print(f\"UUID1: {uuid1}\")"
   ]
  },
  {
   "cell_type": "markdown",
   "metadata": {},
   "source": [
    "#### Extraindo TIMESTAMP do UUID1"
   ]
  },
  {
   "cell_type": "code",
   "execution_count": 18,
   "metadata": {},
   "outputs": [
    {
     "name": "stdout",
     "output_type": "stream",
     "text": [
      "<class 'uuid.UUID'>\n",
      "\n",
      "UUID1: 08827a94-e5ce-11ef-89cd-ac5afcce76dc\n",
      "\n",
      "Timestamp: 1738985854.0567188\n",
      "\n",
      "Data e Hora: 2025-02-08 00:37:34.056719\n",
      "\n",
      "Data: 2025-02-08\n",
      "\n",
      "Data Formatada: 08022025\n",
      "\n",
      "Data Formatada: 08**02**2025\n",
      "\n",
      "Data Formatada: 08/02/2025\n",
      "\n",
      "Data Formatada: 08-02-2025T00:00:00\n"
     ]
    }
   ],
   "source": [
    "import uuid\n",
    "import datetime\n",
    "\n",
    "# Gerar um UUID baseado no tempo (UUID1)\n",
    "uuid1 = uuid.uuid1()\n",
    "\n",
    "print(type(uuid1))\n",
    "\n",
    "print(f\"\\nUUID1: {uuid1}\")\n",
    "\n",
    "# Extrair o timestamp do UUID1\n",
    "timestamp = (uuid1.time - 0x01B21DD213814000) / 1e7\n",
    "\n",
    "print(f\"\\nTimestamp: {timestamp}\")\n",
    "\n",
    "# Converter o timestamp para uma data\n",
    "value_datetime = datetime.datetime.fromtimestamp(timestamp)\n",
    "\n",
    "print(f\"\\nData e Hora: {value_datetime}\")\n",
    "\n",
    "value_date = datetime.date.fromtimestamp(timestamp)\n",
    "\n",
    "print(f\"\\nData: {value_date}\")\n",
    "\n",
    "# Formato de data DDMMYYYY\n",
    "value_date_string_1 = datetime.date.fromtimestamp(timestamp).strftime(\"%d%m%Y\")\n",
    "\n",
    "print(f\"\\nData Formatada 1: {value_date_string_1}\")\n",
    "\n",
    "value_date_string_2 = datetime.date.fromtimestamp(timestamp).strftime(\"%d**%m**%Y\")\n",
    "\n",
    "print(f\"\\nData Formatada 2: {value_date_string_2}\")\n",
    "\n",
    "value_date_string_3 = datetime.date.fromtimestamp(timestamp).strftime(\"%d/%m/%Y\")\n",
    "\n",
    "print(f\"\\nData Formatada 3: {value_date_string_3}\")\n",
    "\n",
    "value_datetime_string_4 = datetime.date.fromtimestamp(timestamp).strftime(\"%d-%m-%YT%H:%M:%S\")\n",
    "\n",
    "print(f\"\\nData Formatada 4: {value_datetime_string_4}\")"
   ]
  }
 ],
 "metadata": {
  "kernelspec": {
   "display_name": "Python 3",
   "language": "python",
   "name": "python3"
  },
  "language_info": {
   "codemirror_mode": {
    "name": "ipython",
    "version": 3
   },
   "file_extension": ".py",
   "mimetype": "text/x-python",
   "name": "python",
   "nbconvert_exporter": "python",
   "pygments_lexer": "ipython3",
   "version": "3.12.2"
  }
 },
 "nbformat": 4,
 "nbformat_minor": 2
}
