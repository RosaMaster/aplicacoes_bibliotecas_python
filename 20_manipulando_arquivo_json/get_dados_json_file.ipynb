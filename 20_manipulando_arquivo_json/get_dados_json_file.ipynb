{
 "cells": [
  {
   "cell_type": "markdown",
   "metadata": {},
   "source": [
    "### Get dados JSON File"
   ]
  },
  {
   "cell_type": "code",
   "execution_count": 21,
   "metadata": {},
   "outputs": [
    {
     "name": "stdout",
     "output_type": "stream",
     "text": [
      "{'nome': 'Joao', 'sobrenome': 'Pedro Sousa Silva', 'idade': 30, 'email': 'p-s-s@teste.com', 'idiomas': {'ingles': 'fluente', 'espanhol': 'basico', 'frances': 'basico'}, 'carro': {'marca': 'Ford', 'modelo': 'Fiesta', 'ano': 2010, 'cor': 'branco', 'placa': 'ABC-1234', 'km': 50000, 'vistorias': [{'data': '20200522', 'local': 'DETRAN', 'resultado': 'Aprovado'}, {'data': '20210215', 'local': 'Autorizada', 'resultado': 'Reprovado'}, {'data': '20230311', 'local': 'DETRAN', 'resultado': 'Aprovado'}]}}\n",
      "<class 'dict'>\n",
      "Joao\n",
      "30\n",
      "{'ingles': 'fluente', 'espanhol': 'basico', 'frances': 'basico'}\n",
      "basico\n",
      "{'marca': 'Ford', 'modelo': 'Fiesta', 'ano': 2010, 'cor': 'branco', 'placa': 'ABC-1234', 'km': 50000, 'vistorias': [{'data': '20200522', 'local': 'DETRAN', 'resultado': 'Aprovado'}, {'data': '20210215', 'local': 'Autorizada', 'resultado': 'Reprovado'}, {'data': '20230311', 'local': 'DETRAN', 'resultado': 'Aprovado'}]}\n"
     ]
    }
   ],
   "source": [
    "import json\n",
    "\n",
    "def main():\n",
    "    with open('./Payloads/cliente.json', 'r') as arquivo:\n",
    "        dados = json.load(arquivo)\n",
    "\n",
    "    print(dados)\n",
    "    print(type(dados))\n",
    "\n",
    "    print(f\"{dados.get('nome')}\")\n",
    "    print(f\"{dados.get('idade')}\")\n",
    "    print(f\"{dados.get('idiomas')}\")\n",
    "    print(f\"{dict(dados.get('idiomas'))['espanhol']}\")\n",
    "    print(f\"{dados.get('carro')}\")\n",
    "\n",
    "\n",
    "if __name__ == '__main__':\n",
    "    main()"
   ]
  },
  {
   "cell_type": "markdown",
   "metadata": {},
   "source": [
    "#### Manipulando objeto DICT\n",
    "\n",
    "Incluindo novo campo no objeto JSON sexo\n",
    "\n",
    "Incluindo um Objeto DICT vistorias"
   ]
  },
  {
   "cell_type": "code",
   "execution_count": null,
   "metadata": {},
   "outputs": [
    {
     "name": "stdout",
     "output_type": "stream",
     "text": [
      "<class 'dict'>\n"
     ]
    }
   ],
   "source": [
    "import json\n",
    "\n",
    "def main():\n",
    "\n",
    "    # ler o arquivo cliente\n",
    "    with open('./Payloads/cliente.json', 'r') as arquivo_read:\n",
    "        dados = json.load(arquivo_read)\n",
    "\n",
    "    print(type(dados))              # exibir o tipo da variável dados\n",
    "\n",
    "    dados['sexo'] = 'M'             # adicionar sexo ao dicionário\n",
    "\n",
    "    dados['idade'] = 25             # update idade\n",
    "\n",
    "\n",
    "    # adicionar nova vistoria ao dicionário de vistorias do carro\n",
    "    nova_vistoria = {'data': '20250131', 'local': 'SHOPPING', 'resultado': 'Reprovado'}\n",
    "\n",
    "    if 'vistorias' in dados['carro']:\n",
    "        dados['carro']['vistorias'].append(nova_vistoria)\n",
    "    else:\n",
    "        dados['carro']['vistorias'] = [nova_vistoria]\n",
    "\n",
    "\n",
    "    # gravar o arquivo cliente_v2\n",
    "    with open('./Payloads/cliente_v2.json', 'w') as arquivo_write:\n",
    "        json.dump(dados, arquivo_write, indent=4)\n",
    "\n",
    "\n",
    "if __name__ == '__main__':\n",
    "    main()"
   ]
  },
  {
   "cell_type": "markdown",
   "metadata": {},
   "source": [
    "### Deletando campo do dicionário"
   ]
  },
  {
   "cell_type": "code",
   "execution_count": null,
   "metadata": {},
   "outputs": [],
   "source": [
    "import json\n",
    "\n",
    "def main():\n",
    "\n",
    "    # ler o arquivo cliente_v2\n",
    "    with open('./Payloads/cliente_v2.json', 'r') as arquivo_read:\n",
    "        dados = json.load(arquivo_read)\n",
    "\n",
    "    \n",
    "    # remover campos do dicionário\n",
    "    del dados['email']\n",
    "    del dados['idiomas']\n",
    "    del dados['carro']\n",
    "    del dados['sexo']\n",
    "\n",
    "\n",
    "    # gravar o arquivo cliente_v3\n",
    "    with open('./Payloads/cliente_v3.json', 'w') as arquivo_write:\n",
    "        json.dump(dados, arquivo_write, indent=4)\n",
    "\n",
    "\n",
    "if __name__ == '__main__':\n",
    "    main()"
   ]
  },
  {
   "cell_type": "markdown",
   "metadata": {},
   "source": [
    "### Print arquivo cliente_v3 linha a linha"
   ]
  },
  {
   "cell_type": "code",
   "execution_count": null,
   "metadata": {},
   "outputs": [
    {
     "name": "stdout",
     "output_type": "stream",
     "text": [
      "{'nome': 'Joao', 'sobrenome': 'Pedro Sousa Silva', 'idade': 25}\n",
      "\n",
      "{\n",
      "   \"nome\": \"Joao\",\n",
      "   \"sobrenome\": \"Pedro Sousa Silva\",\n",
      "   \"idade\": 25\n",
      "}\n"
     ]
    }
   ],
   "source": [
    "import json\n",
    "\n",
    "def main():\n",
    "\n",
    "    # ler o arquivo cliente\n",
    "    with open('./Payloads/cliente_v3.json', 'r') as arquivo_read:\n",
    "        dados = json.load(arquivo_read)\n",
    "\n",
    "    \n",
    "    # Print todas as linhas\n",
    "    print(f\"{dados}\\n\")\n",
    "\n",
    "    # print formato json\n",
    "    print(json.dumps(dados, indent=3))\n",
    "\n",
    "if __name__ == '__main__':\n",
    "    main()"
   ]
  }
 ],
 "metadata": {
  "kernelspec": {
   "display_name": "Python 3",
   "language": "python",
   "name": "python3"
  },
  "language_info": {
   "codemirror_mode": {
    "name": "ipython",
    "version": 3
   },
   "file_extension": ".py",
   "mimetype": "text/x-python",
   "name": "python",
   "nbconvert_exporter": "python",
   "pygments_lexer": "ipython3",
   "version": "3.12.2"
  }
 },
 "nbformat": 4,
 "nbformat_minor": 2
}
