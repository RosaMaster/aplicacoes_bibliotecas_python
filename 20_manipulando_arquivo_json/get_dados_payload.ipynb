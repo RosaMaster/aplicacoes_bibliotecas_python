{
 "cells": [
  {
   "cell_type": "markdown",
   "metadata": {},
   "source": [
    "#### Get Dados Payload File"
   ]
  },
  {
   "cell_type": "code",
   "execution_count": 1,
   "metadata": {},
   "outputs": [
    {
     "name": "stdout",
     "output_type": "stream",
     "text": [
      "{'nome': 'João', 'sobrenome': 'Pedro Sousa Silva', 'idade': 30, 'cidade': 'São Paulo', 'estado': 'SP', 'nacionalidade': 'Brasileiro', 'solteiro': True, 'filhos': None, 'altura': 1.8, 'peso': 80.5, 'sexo': 'M', 'profissao': 'Professor', 'salario': 2500.0, 'email': 'jp-s-s@teste.com', 'titulos': ['Graduação', 'Mestrado', 'Doutorado'], 'idiomas': {'ingles': 'fluente', 'espanhol': 'básico', 'frances': 'básico'}, 'notas': [55, 70, 30, 40, 85], 'carro': {'marca': 'Ford', 'modelo': 'Fiesta', 'ano': 2010, 'cor': 'branco', 'placa': 'ABC-1234', 'km': 50000, 'vistorias': [{'data': '20200522', 'local': 'DETRAN', 'resultado': 'Aprovado'}, {'data': '20210215', 'local': 'Autorizada', 'resultado': 'Reprovado'}, {'data': '20230311', 'local': 'DETRAN', 'resultado': 'Aprovado'}]}}\n"
     ]
    }
   ],
   "source": [
    "from Payloads.payload import Payload\n",
    "\n",
    "def main():\n",
    "    \n",
    "    payload = Payload()\n",
    "    print(payload.dados) # Imprime os dados do payload\n",
    "\n",
    "if __name__ == '__main__':\n",
    "    main()"
   ]
  },
  {
   "cell_type": "code",
   "execution_count": 2,
   "metadata": {},
   "outputs": [
    {
     "name": "stdout",
     "output_type": "stream",
     "text": [
      "João\n",
      "dict_keys(['nome', 'sobrenome', 'idade', 'cidade', 'estado', 'nacionalidade', 'solteiro', 'filhos', 'altura', 'peso', 'sexo', 'profissao', 'salario', 'email', 'titulos', 'idiomas', 'notas', 'carro'])\n",
      "dict_keys(['ingles', 'espanhol', 'frances'])\n",
      "dict_keys(['ingles', 'espanhol', 'frances'])\n",
      "('ingles', 'fluente')\n",
      "('marca', 'Ford')\n"
     ]
    }
   ],
   "source": [
    "from Payloads.payload import Payload\n",
    "\n",
    "def main():\n",
    "    \n",
    "    payload = Payload()\n",
    "\n",
    "    print(payload.dados['nome'])                                            # Imprime o nome do payload\n",
    "    print(payload.dados.keys())                                             # Imprime as chaves do payload\n",
    "\n",
    "    keys_idiomas = payload.dados['idiomas'].keys()                          # Pega as chaves do dicionário idiomas\n",
    "\n",
    "    print(f\"{payload.dados['idiomas'].keys()}\")                             # Imprime as chaves do dicionário idiomas\n",
    "    print(f\"{payload.dados.get('idiomas').keys()}\")                         # Imprime as chaves do dicionário idiomas\n",
    "\n",
    "    #primeiro_idioma = list(keys_idiomas)[0]\n",
    "    #print(f\"{primeiro_idioma}: {payload.dados.get('idiomas')['ingles']}\")   # Imprime o valor da chave portugues\n",
    "    print(f\"{list(payload.dados.get('idiomas').items())[0]}\")\n",
    "\n",
    "    # Itera sobre as chaves e valores do dicionário idiomas e imprime cada um\n",
    "    # for chave, valor in payload.dados['idiomas'].items():\n",
    "    #     print(f\"{chave}: {valor}\")\n",
    "\n",
    "    print(f\"{list(payload.dados.get('carro').items())[0]}\")\n",
    "\n",
    "if __name__ == '__main__':\n",
    "    main()"
   ]
  }
 ],
 "metadata": {
  "kernelspec": {
   "display_name": "Python 3",
   "language": "python",
   "name": "python3"
  },
  "language_info": {
   "codemirror_mode": {
    "name": "ipython",
    "version": 3
   },
   "file_extension": ".py",
   "mimetype": "text/x-python",
   "name": "python",
   "nbconvert_exporter": "python",
   "pygments_lexer": "ipython3",
   "version": "3.12.2"
  }
 },
 "nbformat": 4,
 "nbformat_minor": 2
}
