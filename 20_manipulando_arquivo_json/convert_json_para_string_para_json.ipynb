{
 "cells": [
  {
   "cell_type": "markdown",
   "metadata": {},
   "source": [
    "### Convertendo json em string"
   ]
  },
  {
   "cell_type": "code",
   "execution_count": 1,
   "metadata": {},
   "outputs": [
    {
     "name": "stdout",
     "output_type": "stream",
     "text": [
      "{'nome': 'Joao', 'sobrenome': 'Pedro Sousa Silva', 'idade': 25}\n",
      "<class 'dict'>\n",
      "{\"nome\": \"Joao\", \"sobrenome\": \"Pedro Sousa Silva\", \"idade\": 25}\n",
      "<class 'str'>\n"
     ]
    }
   ],
   "source": [
    "import json\n",
    "\n",
    "\n",
    "def main():\n",
    "\n",
    "    # ler o arquivo cliente_v3\n",
    "    with open('./Payloads/cliente_v3.json', 'r') as arquivo_read:\n",
    "        dados = json.load(arquivo_read)\n",
    "\n",
    "    \n",
    "    print(dados)\n",
    "    print(type(dados))\n",
    "\n",
    "    # convert into JSON:\n",
    "    dados_string = json.dumps(dados)\n",
    "\n",
    "    # the result is a JSON string:\n",
    "    print(dados_string)\n",
    "    print(type(dados_string))\n",
    "\n",
    "    # gravar o arquivo cliente_string\n",
    "    with open('./Payloads/cliente_string.txt', 'w') as arquivo_write:\n",
    "        json.dump(dados_string, arquivo_write)\n",
    "\n",
    "if __name__ == '__main__':\n",
    "    main()"
   ]
  },
  {
   "cell_type": "markdown",
   "metadata": {},
   "source": []
  },
  {
   "cell_type": "code",
   "execution_count": 6,
   "metadata": {},
   "outputs": [
    {
     "name": "stdout",
     "output_type": "stream",
     "text": [
      "{\"nome\": \"Joao\", \"sobrenome\": \"Pedro Sousa Silva\", \"idade\": 25}\n",
      "<class 'str'>\n",
      "{'nome': 'Joao', 'sobrenome': 'Pedro Sousa Silva', 'idade': 25}\n",
      "<class 'dict'>\n"
     ]
    }
   ],
   "source": [
    "import json\n",
    "\n",
    "\n",
    "def main():\n",
    "\n",
    "    # ler o arquivo cliente_v3\n",
    "    with open('./Payloads/cliente_string.txt', 'r') as arquivo_read:\n",
    "        string = json.load(arquivo_read) # convertendo o arquivo dict\n",
    "\n",
    "    print(string)\n",
    "    print(type(string))\n",
    "\n",
    "    dados = json.loads(string)\n",
    "    print(dados)\n",
    "    print(type(dados))\n",
    "\n",
    "    # gravar o arquivo_v4\n",
    "    with open('./Payloads/cliente_v4.json', 'w') as arquivo_write:\n",
    "        json.dump(dados, arquivo_write, indent=4)\n",
    "\n",
    "if __name__ == '__main__':\n",
    "    main()"
   ]
  }
 ],
 "metadata": {
  "kernelspec": {
   "display_name": "Python 3",
   "language": "python",
   "name": "python3"
  },
  "language_info": {
   "codemirror_mode": {
    "name": "ipython",
    "version": 3
   },
   "file_extension": ".py",
   "mimetype": "text/x-python",
   "name": "python",
   "nbconvert_exporter": "python",
   "pygments_lexer": "ipython3",
   "version": "3.12.2"
  }
 },
 "nbformat": 4,
 "nbformat_minor": 2
}
